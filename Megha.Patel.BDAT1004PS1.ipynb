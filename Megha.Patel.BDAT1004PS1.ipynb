{
 "cells": [
  {
   "cell_type": "markdown",
   "id": "480eb475",
   "metadata": {},
   "source": [
    "#Question 1\n",
    "What data type is each of the following (evaluate where necessary)?"
   ]
  },
  {
   "cell_type": "markdown",
   "id": "33f651ec-fc2f-418c-a3e5-6602f20702f1",
   "metadata": {},
   "source": [
    "|data    |datatype                              |\n",
    "|:-----  |--------:                             |\n",
    "|5       |integer                               |\n",
    "|5.0     |float                                 |\n",
    "|5>1     |boolean                               |\n",
    "|'5'     |string                                |\n",
    "|5 * 2   |integer                               |\n",
    "|'5'* 2  |string                                |\n",
    "|'5'+'2' |string                                |\n",
    "|5/2     |float                                 |\n",
    "|5%2     |integer                               |\n",
    "|{5,2,1} |set                                   |\n",
    "|5==3    |boolean                               |\n",
    "|pi(num.)|float                                 |"
   ]
  },
  {
   "cell_type": "markdown",
   "id": "0d0bf395",
   "metadata": {},
   "source": [
    "#Question 2\n",
    "Write (and evaluate) python expressions that answer these questions:\n",
    "a. How many letters are there in 'Supercalifragilisticexpialidocious'?"
   ]
  },
  {
   "cell_type": "code",
   "execution_count": 3,
   "id": "fdbda54c-8df8-499e-941b-d180db789c8d",
   "metadata": {},
   "outputs": [
    {
     "name": "stdout",
     "output_type": "stream",
     "text": [
      "34\n"
     ]
    }
   ],
   "source": [
    "word = \"Supercalifragilisticexpialidocious\"\n",
    "print(len(word))"
   ]
  },
  {
   "cell_type": "markdown",
   "id": "114d464d",
   "metadata": {},
   "source": [
    "b. Does 'Supercalifragilisticexpialidocious' contain 'ice' as a substring?"
   ]
  },
  {
   "cell_type": "code",
   "execution_count": 4,
   "id": "8fc03524-9001-4a4c-aea8-0b3417114d80",
   "metadata": {},
   "outputs": [
    {
     "name": "stdout",
     "output_type": "stream",
     "text": [
      "yes it is\n"
     ]
    }
   ],
   "source": [
    "word = \"Supercalifragilisticexpialidocious\"\n",
    "if \"ice\" in word:\n",
    "    print(\"yes it is\")\n",
    "else :\n",
    "    print(\"no it's not\")\n"
   ]
  },
  {
   "cell_type": "markdown",
   "id": "a32331d3",
   "metadata": {},
   "source": [
    "c. Which of the following words is the longest:\n",
    "Supercalifragilisticexpialidocious, Honorificabilitudinitatibus, or\n",
    "Bababadalgharaghtakamminarronnkonn?"
   ]
  },
  {
   "cell_type": "code",
   "execution_count": 5,
   "id": "d91c942e-d2d4-41f8-9e0f-53207b4b27cc",
   "metadata": {},
   "outputs": [
    {
     "name": "stdout",
     "output_type": "stream",
     "text": [
      "The longest word is: Bababadalgharaghtakamminarronnkonn\n"
     ]
    }
   ],
   "source": [
    "word_a = \"Supercalifragilisticexpialidocious\"\n",
    "word_b = \"Honorificabilitudinitatibus\"\n",
    "word_c = \"Bababadalgharaghtakamminarronnkonn\"\n",
    "\n",
    "if len(word_a) > len(word_b):\n",
    "  longest_word = word_a\n",
    "    \n",
    "else:\n",
    "  longest_word = word_b\n",
    "\n",
    "\n",
    "if len(longest_word) > len(word_c):\n",
    "  result = longest_word\n",
    "\n",
    "else:\n",
    "  result = word_c\n",
    "\n",
    "print(f\"The longest word is: {result}\")\n"
   ]
  },
  {
   "cell_type": "markdown",
   "id": "d4c8a6ea",
   "metadata": {},
   "source": [
    "d. Which composer comes first in the dictionary: 'Berlioz', 'Borodin', 'Brian', \n",
    "'Bartok', 'Bellini', 'Buxtehude', 'Bernstein'. Which one comes last?"
   ]
  },
  {
   "cell_type": "code",
   "execution_count": 6,
   "id": "9ee4a10b-cd6c-4594-80eb-28cda130cf39",
   "metadata": {
    "scrolled": true
   },
   "outputs": [
    {
     "name": "stdout",
     "output_type": "stream",
     "text": [
      "First composer: Bartok\n",
      "Last composer: Buxtehude\n"
     ]
    }
   ],
   "source": [
    "composers = ['Berlioz', 'Borodin', 'Brian', 'Bartok', 'Bellini', 'Buxtehude', 'Bernstein']\n",
    "composers.sort()\n",
    "print(\"First composer:\", composers[0])\n",
    "print(\"Last composer:\", composers[-1])"
   ]
  },
  {
   "cell_type": "markdown",
   "id": "7ea6a5e7",
   "metadata": {},
   "source": [
    "Question 3 \n",
    "Implement function triangleArea(a,b,c) that takes as input the lengths of the 3\n",
    "sides of a triangle and returns the area of the triangle. By Heron's formula, the area \n",
    "of a triangle with side lengths a, b, and c is\n",
    "s(s - a)(s -b)(s -c)\n",
    ", where \n",
    "s = (a+b+c)/2. \n",
    ">>> triangleArea(2,2,2)\n",
    "1.7320508075688772\n"
   ]
  },
  {
   "cell_type": "code",
   "execution_count": 7,
   "id": "41dcd5f5",
   "metadata": {},
   "outputs": [
    {
     "name": "stdout",
     "output_type": "stream",
     "text": [
      "1.7320508075688772\n"
     ]
    }
   ],
   "source": [
    "import math\n",
    "def TriangleAREA(a, b, c):\n",
    "\n",
    "  s = (a + b + c) / 2\n",
    "  area = math.sqrt(s * (s - a) * (s - b) * (s - c))\n",
    "    \n",
    "  return area\n",
    "print(TriangleAREA(2, 2, 2))  \n"
   ]
  },
  {
   "cell_type": "markdown",
   "id": "da10cc32",
   "metadata": {},
   "source": [
    "#Question 4\n",
    "Write a program in python to separate odd and even integers in separate arrays. Go \n",
    "to the editor\n",
    "Test Data :\n",
    "Input the number of elements to be stored in the array :5\n",
    "Input 5 elements in the array :\n",
    "element - 0 : 25\n",
    "element - 1 : 47\n",
    "element - 2 : 42\n",
    "element - 3 : 56\n",
    "element - 4 : 32\n",
    "Expected Output:\n",
    "The Even elements are:\n",
    "42 56 32\n",
    "The Odd elements are :\n",
    "25 47"
   ]
  },
  {
   "cell_type": "code",
   "execution_count": null,
   "id": "11763927",
   "metadata": {
    "scrolled": true
   },
   "outputs": [],
   "source": [
    "def separate_odd_even(arr):\n",
    "    even = []\n",
    "    odd = []\n",
    "    for number in arr:\n",
    "        if number % 2 == 0:\n",
    "            even.append(number)\n",
    "        else:\n",
    "            odd.append(number)\n",
    "    return even, odd\n",
    "\n",
    "# put input\n",
    "num = int(input(\"Enter the number you whan to short out: \"))\n",
    "arr = []\n",
    "print(\"Input\", num, \"total numbers in the array:\")\n",
    "for i in range(num):\n",
    "    arr.append(int(input(f\"element - {i} : \")))\n",
    "\n",
    "# Separat the odd and even elements\n",
    "\n",
    "even_numbers, odd_numbers = separate_odd_even(arr)\n",
    "\n",
    "# get output\n",
    "print(\"Even Numbers:\", *even_numbers)\n",
    "print(\"Odd Numbers:\", *odd_numbers)"
   ]
  },
  {
   "cell_type": "markdown",
   "id": "14d50108",
   "metadata": {},
   "source": [
    "#Question 5\n",
    "a. Write a function inside(x,y,x1,y1,x2,y2) that returns True or False \n",
    "depending on whether the point (x,y) lies in the rectangle with lower left \n",
    "corner (x1,y1) and upper right corner (x2,y2).\n",
    ">>> inside(1,1,0,0,2,3)\n",
    "True\n",
    ">>> inside(-1,-1,0,0,2,3)\n",
    "False"
   ]
  },
  {
   "cell_type": "code",
   "execution_count": null,
   "id": "c458ed25",
   "metadata": {},
   "outputs": [],
   "source": [
    "def inside(x,y,x1,y1,x2,y2):\n",
    "    return x1 <= x <= x2 and y1 <= y <= y2\n",
    "\n",
    "# example\n",
    "print(inside(1,1,0,0,2,3))  # True\n",
    "print(inside(-1,-1, 0,0,2,3)) # False\n"
   ]
  },
  {
   "cell_type": "markdown",
   "id": "3a8e5fd1",
   "metadata": {},
   "source": [
    "b. Use function inside() from part a. to write an expression that tests whether \n",
    "the point (1,1) lies in both of the following rectangles: one with lower left \n",
    "corner (0.3, 0.5) and upper right corner (1.1, 0.7) and the other with lower \n",
    "left corner (0.5, 0.2) and upper right corner (1.1, 2)."
   ]
  },
  {
   "cell_type": "code",
   "execution_count": null,
   "id": "3b331ffc",
   "metadata": {},
   "outputs": [],
   "source": [
    "def inside(x, y, x1, y1, x2, y2):\n",
    "    return x1 <= x <= x2 and y1 <= y <= y2\n",
    "\n",
    "# Test (1, 1) lies in both rectangles\n",
    "x = 1\n",
    "y = 1\n",
    "\n",
    "Rectangle1 = inside(x, y, 0.3, 0.5, 1.1, 0.7)\n",
    "Rectangle2 = inside(x, y, 0.5, 0.2, 1.1, 2)\n",
    "\n",
    "print(\"Point (1, 1) lies in both Rectangles:\", Rectangle1 and Rectangle2)\n"
   ]
  },
  {
   "cell_type": "markdown",
   "id": "91c8041e",
   "metadata": {},
   "source": [
    "#Question 6\n",
    "You can turn a word into pig-Latin using the following two rules (simplified):\n",
    "• If the word starts with a consonant, move that letter to the end and append \n",
    "'ay'. For example, 'happy' becomes 'appyhay' and 'pencil' becomes 'encilpay'.\n",
    "• If the word starts with a vowel, simply append 'way' to the end of the word. \n",
    "For example, 'enter' becomes 'enterway' and 'other' becomes 'otherway' . For \n",
    "our purposes, there are 5 vowels: a, e, i, o, u (so we count y as a consonant).\n",
    "Write a function pig() that takes a word (i.e., a string) as input and returns its pig\u0002Latin form. Your function should still work if the input word contains upper case \n",
    "characters. Your output should always be lower case however. \n",
    ">>> pig('happy')\n",
    "'appyhay'\n",
    ">>> pig('Enter')\n",
    "'enterway'"
   ]
  },
  {
   "cell_type": "code",
   "execution_count": null,
   "id": "cccfea60",
   "metadata": {},
   "outputs": [],
   "source": [
    "def pig(word):\n",
    "    \n",
    "    vowels = ['a', 'e', 'i', 'o', 'u']\n",
    "    word = word.lower()  # write the word to lowercase\n",
    "    \n",
    "    if word[0] in vowels:\n",
    "        return word + 'way'\n",
    "    else:\n",
    "        return word[1:] + word[0] + 'ay'\n",
    "\n",
    "# Example\n",
    "print(pig('happy'))  # 'appyhay'\n",
    "print(pig('Enter'))  # 'enterway'\n"
   ]
  },
  {
   "cell_type": "markdown",
   "id": "39589490",
   "metadata": {},
   "source": [
    "Question 7\n",
    "File bloodtype1.txt records blood-types of patients (A, B, AB, O or OO) at a clinic. \n",
    "Write a function bldcount() that reads the file with name name and reports (i.e., \n",
    "prints) how many patients there are in each bloodtype.\n",
    ">>> bldcount('bloodtype.txt')\n",
    "There are 10 patients of blood type A.\n",
    "There is one patient of blood type B.\n",
    "There are 10 patients of blood type AB.\n",
    "There are 12 patients of blood type O.\n",
    "There are no patients of blood type OO."
   ]
  },
  {
   "cell_type": "code",
   "execution_count": null,
   "id": "2d8c78c5",
   "metadata": {},
   "outputs": [],
   "source": [
    "def bldcount(fileName):\n",
    "    \n",
    "    count_A = 0\n",
    "    count_B = 0\n",
    "    count_AB = 0\n",
    "    count_O = 0\n",
    "    count_OO = 0\n",
    "\n",
    "\n",
    "    with open(fileName, 'r') as file:\n",
    "     \n",
    "        for line in file:\n",
    "           \n",
    "            words = line.strip().split()\n",
    "           \n",
    "            for word in words:\n",
    "                \n",
    "                if word == 'A':\n",
    "                    count_A += 1\n",
    "                elif word == 'B':\n",
    "                    count_B += 1\n",
    "                elif word == 'AB':\n",
    "                    count_AB += 1\n",
    "                elif word == 'O':\n",
    "                    count_O += 1\n",
    "                elif word == 'OO':\n",
    "                    count_OO += 1\n",
    "\n",
    "    if count_A == 1:\n",
    "        X = \"is\"\n",
    "    else:\n",
    "        X = \"are\"\n",
    "    if count_B == 1:\n",
    "        Y = \"is\"\n",
    "    else:\n",
    "        Y = \"are\"\n",
    "    if count_AB == 1:\n",
    "        Z = \"is\"\n",
    "    else:\n",
    "        Z = \"are\"\n",
    "\n",
    "    print(f\"There {X} {count_A} patient{'s' if count_A != 1 else ''} of blood type A.\")\n",
    "    print(f\"There {Y} {count_B} patient{'s' if count_B != 1 else ''} of blood type B.\")\n",
    "    print(f\"There {Z} {count_AB} patient{'s' if count_AB != 1 else ''} of blood type AB.\")\n",
    "    print(f\"There {'is' if count_O == 1 else 'are'} {count_O} patient{'s' if count_O != 1 else ''} of blood type O.\")\n",
    "    print(f\"There {'are' if count_OO != 0 else 'is no'} patient{'s' if count_OO != 0 else ''} of blood type OO.\")\n",
    "    \n",
    "    \n",
    "    file.close()\n",
    "\n",
    "    \n",
    "file_name = \"bloodtype1.txt\"\n",
    "bldcount(file_name)\n"
   ]
  },
  {
   "cell_type": "markdown",
   "id": "f7143ac9",
   "metadata": {},
   "source": [
    "Question 8\n",
    "Write a function curconv() that takes as input:\n",
    "1. a currency represented using a string (e.g., 'JPY' for the Japanese Yen or \n",
    "'EUR' for the Euro)\n",
    "2. an amount\n",
    "and then converts and returns the amount in US dollars.\n",
    ">>> curconv('EUR', 100)\n",
    "122.96544\n",
    ">>> curconv('JPY', 100)\n",
    "1.241401\n",
    "The currency rates you will need are stored in file currencies.txt:\n",
    "AUD 1.0345157 Australian Dollar\n",
    "CHF 1.0237414 Swiss Franc\n",
    "CNY 0.1550176 Chinese Yuan\n",
    "DKK 0.1651442 Danish Krone\n",
    "EUR 1.2296544 Euro\n",
    "GBP 1.5550989 British Pound\n",
    "HKD 0.1270207 Hong Kong Dollar\n",
    "INR 0.0177643 Indian Rupee\n",
    "JPY 0.01241401 Japanese Yen\n",
    "MXN 0.0751848 Mexican Peso\n",
    "MYR 0.3145411 Malaysian Ringgit\n",
    "NOK 0.1677063 Norwegian Krone\n",
    "NZD 0.8003591 New Zealand Dollar\n",
    "PHP 0.0233234 Philippine Peso\n",
    "SEK 0.148269 Swedish Krona\n",
    "SGD 0.788871 Singapore Dollar\n",
    "THB 0.0313789 Thai Baht"
   ]
  },
  {
   "cell_type": "code",
   "execution_count": 9,
   "id": "a3f7497a",
   "metadata": {},
   "outputs": [
    {
     "name": "stdout",
     "output_type": "stream",
     "text": [
      "122.96544\n",
      "1.241401\n"
     ]
    }
   ],
   "source": [
    "def curconv(currency , amount):\n",
    "    exchange_value = {}\n",
    "   #Open and read the file\n",
    "    with open('currencies.txt','r') as file:\n",
    "        \n",
    "        for line in file:\n",
    "            value = line.split()\n",
    "\n",
    "            exchange_value[value[0]] = float(value[1])\n",
    "\n",
    "    # Convert amount to USD using the conversion rate\n",
    "    if currency in exchange_value:\n",
    "        return amount * exchange_value[currency]\n",
    "    else:\n",
    "        return \"Currency not found in conversion rates.\"\n",
    "\n",
    "print(curconv('EUR', 100))\n",
    "print(curconv('JPY', 100))"
   ]
  },
  {
   "cell_type": "markdown",
   "id": "6508c610",
   "metadata": {},
   "source": [
    "#Question 9\n",
    "Each of the following will cause an exception (an error). Identify what type of \n",
    "exception each will cause."
   ]
  },
  {
   "cell_type": "markdown",
   "id": "10f51834",
   "metadata": {},
   "source": [
    "1. Trying to add incompatible variables, as in \n",
    "adding 6 + ‘a’"
   ]
  },
  {
   "cell_type": "code",
   "execution_count": null,
   "id": "76f6bc43",
   "metadata": {},
   "outputs": [],
   "source": [
    "6 + ‘a’\n",
    "#SyntaxError: invalid character '‘' (U+2018)"
   ]
  },
  {
   "cell_type": "markdown",
   "id": "b1cc833c",
   "metadata": {},
   "source": [
    "2. Referring to the 12th item of a list that has only 10 \n",
    "items"
   ]
  },
  {
   "cell_type": "code",
   "execution_count": null,
   "id": "182c907d",
   "metadata": {},
   "outputs": [],
   "source": [
    "list = ['A','B','C','D','E','F','G','H','I','J']\n",
    "print(list[11])\n",
    "\n",
    "#IndexError: list index out of range"
   ]
  },
  {
   "cell_type": "markdown",
   "id": "55c03fa5",
   "metadata": {},
   "source": [
    "3. Using a value that is out of range for a function’s \n",
    "input, such as calling math.sqrt(-1.0)"
   ]
  },
  {
   "cell_type": "code",
   "execution_count": null,
   "id": "588d7800",
   "metadata": {},
   "outputs": [],
   "source": [
    "import math \n",
    "square_root = math.sqrt(1.0 , 1.2)\n",
    "print(square_root)\n",
    "#TypeError: math.sqrt() takes exactly one argument (2 given)"
   ]
  },
  {
   "cell_type": "markdown",
   "id": "37b2227c",
   "metadata": {},
   "source": [
    "4. Using an undeclared variable, such as print(x)\n",
    "when x has not been defined"
   ]
  },
  {
   "cell_type": "code",
   "execution_count": null,
   "id": "6825d4b2",
   "metadata": {},
   "outputs": [],
   "source": [
    "print(x)\n",
    "#NameError: name 'x' is not defined"
   ]
  },
  {
   "cell_type": "markdown",
   "id": "610ae9c0",
   "metadata": {},
   "source": [
    "5. Trying to open a file that does not exist, such as \n",
    "mistyping the file name or looking in the wrong \n",
    "directory."
   ]
  },
  {
   "cell_type": "code",
   "execution_count": null,
   "id": "9aafe95a",
   "metadata": {
    "scrolled": true
   },
   "outputs": [],
   "source": [
    "file_name = \"Exercise1.txt\"\n",
    "f = open(file_name , 'r')\n",
    "print(f.read())\n",
    "#FileNotFoundError: [Errno 2] No such file or directory: 'Exercise1.txt'"
   ]
  },
  {
   "cell_type": "markdown",
   "id": "54b6abe0",
   "metadata": {},
   "source": [
    "Question 10\n",
    "Encryption is the process of hiding the meaning of a text by substituting letters in the \n",
    "message with other letters, according to some system. If the process is successful, no \n",
    "one but the intended recipient can understand the encrypted message. Cryptanalysis\n",
    "refers to attempts to undo the encryption, even if some details of the encryption are \n",
    "unknown (for example, if an encrypted message has been intercepted). The first step \n",
    "of cryptanalysis is often to build up a table of letter frequencies in the encrypted text. \n",
    "Assume that the string letters is already defined as \n",
    "'abcdefghijklmnopqrstuvwxyz'. Write a function called frequencies()\n",
    "that takes a string as its only parameter, and returns a list of integers, showing the \n",
    "number of times each character appears in the text. Your function may ignore any \n",
    "characters that are not in letters. \n",
    ">>> frequencies('The quick red fox got bored and went home.')\n",
    "[1, 1, 1, 3, 5, 1, 1, 2, 1, 0, 1, 0, 1, 2, 4, 0, 1, 2, 0, 2, \n",
    "1, 0, 1, 1, 0, 0]\n",
    ">>> frequencies('apple')"
   ]
  },
  {
   "cell_type": "code",
   "execution_count": 11,
   "id": "0fb4f10f",
   "metadata": {
    "scrolled": true
   },
   "outputs": [
    {
     "name": "stdout",
     "output_type": "stream",
     "text": [
      "{'a': 1, 'b': 0, 'c': 0, 'd': 0, 'e': 1, 'f': 0, 'g': 0, 'h': 0, 'i': 0, 'j': 0, 'k': 0, 'l': 1, 'm': 0, 'n': 0, 'o': 0, 'p': 2, 'q': 0, 'r': 0, 's': 0, 't': 0, 'u': 0, 'v': 0, 'w': 0, 'x': 0, 'y': 0, 'z': 0}\n"
     ]
    }
   ],
   "source": [
    "def frequencies(text):\n",
    "    letters = 'abcdefghijklmnopqrstuvwxyz'\n",
    "    letter_freq = {letter: 0 for letter in letters}\n",
    "\n",
    "    for char in text:\n",
    "        char = char.lower()\n",
    "        if char in letters:\n",
    "            letter_freq[char] += 1\n",
    "\n",
    "    return letter_freq\n",
    "\n",
    "print(frequencies('apple'))"
   ]
  },
  {
   "cell_type": "code",
   "execution_count": null,
   "id": "7aaf2126",
   "metadata": {},
   "outputs": [],
   "source": []
  },
  {
   "cell_type": "code",
   "execution_count": null,
   "id": "0ce07c1a",
   "metadata": {},
   "outputs": [],
   "source": []
  }
 ],
 "metadata": {
  "kernelspec": {
   "display_name": "Python 3 (ipykernel)",
   "language": "python",
   "name": "python3"
  },
  "language_info": {
   "codemirror_mode": {
    "name": "ipython",
    "version": 3
   },
   "file_extension": ".py",
   "mimetype": "text/x-python",
   "name": "python",
   "nbconvert_exporter": "python",
   "pygments_lexer": "ipython3",
   "version": "3.11.7"
  }
 },
 "nbformat": 4,
 "nbformat_minor": 5
}
